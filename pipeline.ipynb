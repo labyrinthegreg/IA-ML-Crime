{
 "cells": [
  {
   "metadata": {
    "ExecuteTime": {
     "end_time": "2024-11-27T13:13:01.812539Z",
     "start_time": "2024-11-27T13:13:01.807487Z"
    }
   },
   "cell_type": "code",
   "source": [
    "import pandas as pd\n",
    "from sklearn.model_selection import train_test_split\n",
    "from sklearn.pipeline import Pipeline\n",
    "from sklearn.compose import ColumnTransformer\n",
    "from sklearn.preprocessing import StandardScaler, OneHotEncoder\n",
    "from sklearn.linear_model import LogisticRegression\n",
    "import pickle\n",
    "\n",
    "def create_pipeline():\n",
    "    numerical_features = ['X', 'Y']\n",
    "    categorical_features = ['Dates']\n",
    "\n",
    "    numerical_transformer = StandardScaler()\n",
    "    categorical_transformer = OneHotEncoder(handle_unknown='ignore')\n",
    "\n",
    "    preprocessor = ColumnTransformer(\n",
    "        transformers=[\n",
    "            ('num', numerical_transformer, numerical_features),\n",
    "            ('cat', categorical_transformer, categorical_features)\n",
    "        ]\n",
    "    )\n",
    "\n",
    "    pipeline = Pipeline([\n",
    "        ('preprocessor', preprocessor),\n",
    "        ('classifier', LogisticRegression())\n",
    "    ])\n",
    "\n",
    "    return pipeline\n",
    "\n",
    "def train_pipeline(pipeline, df):\n",
    "    X = df[['Dates', 'X', 'Y']]\n",
    "    y = df['Category']\n",
    "\n",
    "    X_train, X_test, y_train, y_test = train_test_split(X, y, test_size=0.2, random_state=42)\n",
    "\n",
    "    pipeline.fit(X_train, y_train)\n",
    "\n",
    "    score = pipeline.score(X_test, y_test)\n",
    "\n",
    "    with open('pipeline_model.pkl', 'wb') as file:\n",
    "        pickle.dump(pipeline, file)\n",
    "    print(\"Pipeline sauvegardée dans 'pipeline_model.pkl'.\")\n",
    "\n",
    "    return pipeline, score\n",
    "\n",
    "def make_prediction(pipeline, input_data: dict) -> dict:\n",
    "    input_df = pd.DataFrame([input_data])\n",
    "\n",
    "    prediction = pipeline.predict(input_df)\n",
    "    return {\"prediction\": prediction[0]}\n",
    "\n",
    "def load_csv(file_path: str) -> pd.DataFrame:\n",
    "    df = pd.read_csv(file_path).sample(frac=0.1)\n",
    "    df['Dates'] = pd.to_datetime(df['Dates']).dt.to_period('M')\n",
    "    return df\n"
   ],
   "id": "35611082b4270aa1",
   "outputs": [],
   "execution_count": 17
  },
  {
   "metadata": {
    "ExecuteTime": {
     "end_time": "2024-11-27T13:13:11.124881Z",
     "start_time": "2024-11-27T13:13:05.852071Z"
    }
   },
   "cell_type": "code",
   "source": "train_pipeline(create_pipeline(), load_csv('data/train.csv'))",
   "id": "45385aaa5d3ee6f4",
   "outputs": [
    {
     "name": "stdout",
     "output_type": "stream",
     "text": [
      "Pipeline sauvegardée dans 'pipeline_model.pkl'.\n"
     ]
    },
    {
     "name": "stderr",
     "output_type": "stream",
     "text": [
      "/Users/barbaramichaud/Desktop/MASTER/IA-ML-Crime/.venv/lib/python3.12/site-packages/sklearn/linear_model/_logistic.py:469: ConvergenceWarning: lbfgs failed to converge (status=1):\n",
      "STOP: TOTAL NO. of ITERATIONS REACHED LIMIT.\n",
      "\n",
      "Increase the number of iterations (max_iter) or scale the data as shown in:\n",
      "    https://scikit-learn.org/stable/modules/preprocessing.html\n",
      "Please also refer to the documentation for alternative solver options:\n",
      "    https://scikit-learn.org/stable/modules/linear_model.html#logistic-regression\n",
      "  n_iter_i = _check_optimize_result(\n"
     ]
    },
    {
     "data": {
      "text/plain": [
       "(Pipeline(steps=[('preprocessor',\n",
       "                  ColumnTransformer(transformers=[('num', StandardScaler(),\n",
       "                                                   ['X', 'Y']),\n",
       "                                                  ('cat',\n",
       "                                                   OneHotEncoder(handle_unknown='ignore'),\n",
       "                                                   ['Dates'])])),\n",
       "                 ('classifier', LogisticRegression())]),\n",
       " 0.21359831444678548)"
      ]
     },
     "execution_count": 18,
     "metadata": {},
     "output_type": "execute_result"
    }
   ],
   "execution_count": 18
  },
  {
   "metadata": {
    "ExecuteTime": {
     "end_time": "2024-11-27T13:13:36.617202Z",
     "start_time": "2024-11-27T13:13:36.489079Z"
    }
   },
   "cell_type": "code",
   "source": "!ls -lh",
   "id": "f0f8752e418f09f1",
   "outputs": [
    {
     "name": "stdout",
     "output_type": "stream",
     "text": [
      "total 25352\r\n",
      "-rw-r--r--   1 barbaramichaud  staff    13B Nov 26 17:12 README.md\r\n",
      "drwxr-xr-x@  6 barbaramichaud  staff   192B Nov 27 13:50 \u001B[34mapp\u001B[m\u001B[m\r\n",
      "drwxr-xr-x@  3 barbaramichaud  staff    96B Nov 26 17:14 \u001B[34mdata\u001B[m\u001B[m\r\n",
      "drwxr-xr-x@ 10 barbaramichaud  staff   320B Nov 27 12:31 \u001B[34mfrontend\u001B[m\u001B[m\r\n",
      "-rw-r--r--   1 barbaramichaud  staff    23K Nov 26 17:12 newplot.png\r\n",
      "-rw-r--r--@  1 barbaramichaud  staff   6.4K Nov 27 14:13 pipeline.ipynb\r\n",
      "-rw-r--r--@  1 barbaramichaud  staff    50K Nov 27 14:13 pipeline_model.pkl\r\n",
      "-rw-r--r--@  1 barbaramichaud  staff   2.3K Nov 27 11:58 requirements.txt\r\n",
      "-rw-r--r--@  1 barbaramichaud  staff    12M Nov 26 20:41 sample.ipynb\r\n"
     ]
    }
   ],
   "execution_count": 20
  }
 ],
 "metadata": {
  "kernelspec": {
   "name": "python3",
   "language": "python",
   "display_name": "Python 3 (ipykernel)"
  }
 },
 "nbformat": 5,
 "nbformat_minor": 9
}
